{
 "cells": [
  {
   "cell_type": "raw",
   "id": "5519ba25-cec1-4bb8-9807-201a9430d00e",
   "metadata": {},
   "source": [
    "Introduction to Pandas\n",
    "\n",
    "Pandas, coined from \"Panel Data\" and \"Python Data Analysis\". Pandas is a powerful open-source library in Python for data manipulation and analysis. It provides data structures and functions to efficiently handle structured data, including tabular data such as spreadsheets and SQL tables. Pandas make it easy to handle data in various formats, such as CSV, Excel, SQL databases, and JSON, with a high-level API for complex operations."
   ]
  },
  {
   "cell_type": "raw",
   "id": "3b0d8e1e-5605-454f-96fe-e9bd41035c77",
   "metadata": {},
   "source": [
    "Using Series in Pandas\n",
    "A Pandas Series is a one-dimensional array-like object that can hold data of any type (integers, strings, floats, etc.). It is similar to a list or an array in Python but comes with additional functionalities, such as labeled indexing. You can create a Series from a list, dictionary, or scalar value."
   ]
  },
  {
   "cell_type": "code",
   "execution_count": 28,
   "id": "8c69ab4b-3f6d-4afe-ba4c-8e4e73621c37",
   "metadata": {},
   "outputs": [],
   "source": [
    "# import pandas: import pandas as pd\n",
    "# Syntax for creating pandas series: pandas.Series(data,index,dtype,copy)"
   ]
  },
  {
   "cell_type": "code",
   "execution_count": 9,
   "id": "74c980f2-c057-4fe0-b0ec-f0a91a9b2f0e",
   "metadata": {},
   "outputs": [
    {
     "name": "stdout",
     "output_type": "stream",
     "text": [
      "0    10\n",
      "1    20\n",
      "2    30\n",
      "3    40\n",
      "dtype: int64\n"
     ]
    }
   ],
   "source": [
    "import pandas as pd\n",
    "\n",
    "# Creating a Series\n",
    "s = pd.Series([10, 20, 30, 40])\n",
    "print(s)"
   ]
  },
  {
   "cell_type": "code",
   "execution_count": 24,
   "id": "8abce7fd-38bc-4934-aca7-20ed29d41a0b",
   "metadata": {},
   "outputs": [
    {
     "name": "stdout",
     "output_type": "stream",
     "text": [
      "0    10\n",
      "1    20\n",
      "2    30\n",
      "3    40\n",
      "dtype: int64\n"
     ]
    }
   ],
   "source": [
    "# Creating a Series\n",
    "my_list = [10, 20, 30, 40]\n",
    "# or\n",
    "# my_list = (10, 20, 30, 40)\n",
    "s = pd.Series(my_list)\n",
    "print(s)"
   ]
  },
  {
   "cell_type": "code",
   "execution_count": 5,
   "id": "81e3e68c-a1d5-4d90-8e68-41e82898c925",
   "metadata": {},
   "outputs": [
    {
     "name": "stdout",
     "output_type": "stream",
     "text": [
      "0    10\n",
      "1    20\n",
      "2    30\n",
      "3    40\n",
      "dtype: int32\n"
     ]
    }
   ],
   "source": [
    "# Creating a Series from numpy array\n",
    "import numpy as np\n",
    "my_list = np.array([10, 20, 30, 40])\n",
    "s = pd.Series(my_list)\n",
    "print(s)"
   ]
  },
  {
   "cell_type": "code",
   "execution_count": 17,
   "id": "dc0fb366-943f-4396-8568-9af332693fba",
   "metadata": {},
   "outputs": [
    {
     "name": "stdout",
     "output_type": "stream",
     "text": [
      "a    1\n",
      "b    2\n",
      "c    3\n",
      "d    4\n",
      "e    5\n",
      "dtype: int64\n"
     ]
    }
   ],
   "source": [
    "# Creating series with index\n",
    "data = [1, 2, 3, 4, 5]\n",
    "index = ['a', 'b', 'c', 'd', 'e']\n",
    "series = pd.Series(data, index=index)\n",
    "print(series)"
   ]
  },
  {
   "cell_type": "code",
   "execution_count": 40,
   "id": "7d29666a-a824-483a-8857-536a4929a560",
   "metadata": {},
   "outputs": [
    {
     "name": "stdout",
     "output_type": "stream",
     "text": [
      "a    1\n",
      "b    2\n",
      "c    3\n",
      "d    4\n",
      "dtype: int64\n"
     ]
    }
   ],
   "source": [
    "# Creating series from dictionary\n",
    "data = {'a': 1, 'b': 2, 'c': 3, 'd': 4}\n",
    "series = pd.Series(data)\n",
    "\n",
    "print(series)"
   ]
  },
  {
   "cell_type": "code",
   "execution_count": 29,
   "id": "2cca9291-b3a7-46f4-a587-56ee71779365",
   "metadata": {},
   "outputs": [
    {
     "name": "stdout",
     "output_type": "stream",
     "text": [
      "[1, 2, 3, 4]\n",
      "x    1\n",
      "y    2\n",
      "z    3\n",
      "w    4\n",
      "dtype: int64\n"
     ]
    }
   ],
   "source": [
    "data = {'a': 1, 'b': 2, 'c': 3, 'd': 4}\n",
    "index = ['x', 'y', 'z', 'w']\n",
    "\n",
    "print(list(data.values()))\n",
    "series = pd.Series(data=list(data.values()), index=index)\n",
    "\n",
    "print(series)"
   ]
  },
  {
   "cell_type": "code",
   "execution_count": 56,
   "id": "2d711505-9ae0-47da-aefb-85593e56e818",
   "metadata": {},
   "outputs": [
    {
     "name": "stdout",
     "output_type": "stream",
     "text": [
      "a    5\n",
      "b    5\n",
      "c    5\n",
      "d    5\n",
      "dtype: int64\n"
     ]
    }
   ],
   "source": [
    "# Creating series using scalar value\n",
    "# Scalar value\n",
    "scalar_value = 5\n",
    "\n",
    "# Index list\n",
    "index = ['a', 'b', 'c', 'd']\n",
    "\n",
    "# Creating the Series\n",
    "series = pd.Series(scalar_value, index=index)\n",
    "\n",
    "print(series)"
   ]
  },
  {
   "cell_type": "code",
   "execution_count": 37,
   "id": "f685e7da-43e4-4d37-bb7e-f204811c2f09",
   "metadata": {},
   "outputs": [
    {
     "name": "stdout",
     "output_type": "stream",
     "text": [
      "The item at index 1 in series s is 20\n"
     ]
    }
   ],
   "source": [
    "# Accessing elements by position\n",
    "s = pd.Series([10, 20, 30, 40, 50])\n",
    "print(f\"The item at index 1 in series s is {s[1]}\")"
   ]
  },
  {
   "cell_type": "code",
   "execution_count": 41,
   "id": "4f5d901f-3556-47bb-9c15-464e23d6d46e",
   "metadata": {},
   "outputs": [
    {
     "name": "stdout",
     "output_type": "stream",
     "text": [
      "0    10\n",
      "1    20\n",
      "2    30\n",
      "dtype: int64\n"
     ]
    }
   ],
   "source": [
    "# Accessing first 3 elements\n",
    "print(s[:3])"
   ]
  },
  {
   "cell_type": "code",
   "execution_count": 43,
   "id": "790fa17d-e53c-473f-ba16-fb9f082e518d",
   "metadata": {},
   "outputs": [
    {
     "name": "stdout",
     "output_type": "stream",
     "text": [
      "0    10\n",
      "1    20\n",
      "2    30\n",
      "dtype: int64\n"
     ]
    }
   ],
   "source": [
    "# Accessing first 3 elements\n",
    "# integer-location based indexing\n",
    "print(s.iloc[:3])"
   ]
  },
  {
   "cell_type": "code",
   "execution_count": 77,
   "id": "1c9e92a5-43fd-4c8f-9652-e22756a89bfe",
   "metadata": {},
   "outputs": [
    {
     "name": "stdout",
     "output_type": "stream",
     "text": [
      "2    30\n",
      "3    40\n",
      "4    50\n",
      "dtype: int64\n"
     ]
    }
   ],
   "source": [
    "# Accessing last 3 elements\n",
    "print(s.iloc[-3:])"
   ]
  },
  {
   "cell_type": "code",
   "execution_count": 96,
   "id": "859562c7-abde-4341-aef3-ec5403d49a4a",
   "metadata": {},
   "outputs": [
    {
     "name": "stdout",
     "output_type": "stream",
     "text": [
      "2    30\n",
      "3    40\n",
      "4    50\n",
      "dtype: int64\n"
     ]
    }
   ],
   "source": [
    "# Accessing last 3 elements\n",
    "print(s.iloc[-3:])"
   ]
  },
  {
   "cell_type": "code",
   "execution_count": 7,
   "id": "66ed4cb7-6687-4091-b754-3748ce01991b",
   "metadata": {},
   "outputs": [
    {
     "name": "stdout",
     "output_type": "stream",
     "text": [
      "The item at label b in series is 2\n"
     ]
    }
   ],
   "source": [
    "# Accessing elements using label\n",
    "data = {'a': 1, 'b': 2, 'c': 3, 'd': 4}\n",
    "series = pd.Series(data)\n",
    "print(f\"The item at label b in series is {series['b']}\")"
   ]
  },
  {
   "cell_type": "code",
   "execution_count": 9,
   "id": "be908223-6200-43c5-b7d7-25fd3430e9a6",
   "metadata": {},
   "outputs": [
    {
     "name": "stdout",
     "output_type": "stream",
     "text": [
      "1\n"
     ]
    }
   ],
   "source": [
    "print(series['a'])"
   ]
  },
  {
   "cell_type": "markdown",
   "id": "1067b34c-1e0b-48af-a6bb-8362fc61209f",
   "metadata": {},
   "source": [
    "A DataFrame is a two-dimensional labeled data structure with columns of potentially different types. It's similar to an Excel spreadsheet or a table in a relational database.\n",
    "\n",
    "Creating a DataFrame:"
   ]
  },
  {
   "cell_type": "code",
   "execution_count": 9,
   "id": "4f06115b-7fe3-4b6f-b0dc-61cc4d2e086d",
   "metadata": {},
   "outputs": [
    {
     "name": "stdout",
     "output_type": "stream",
     "text": [
      "    Name  Age  Score\n",
      "0   John   25     90\n",
      "1   Mary   31     85\n",
      "2  David   42     78\n",
      "3   Jane   28     92\n"
     ]
    }
   ],
   "source": [
    "data = {'Name': ['John', 'Mary', 'David', 'Jane'],\n",
    "        'Age': [25, 31, 42, 28],\n",
    "        'Score': [90, 85, 78, 92]}\n",
    "df = pd.DataFrame(data)\n",
    "print(df)"
   ]
  },
  {
   "cell_type": "markdown",
   "id": "6784521a-89f7-4342-87ad-575af8061d78",
   "metadata": {},
   "source": [
    "The head() function is used to display the first few rows of a DataFrame, while the tail() function is used to display the last few rows."
   ]
  },
  {
   "cell_type": "code",
   "execution_count": 17,
   "id": "6289c1f3-b96d-4187-8395-26cfacddab3a",
   "metadata": {},
   "outputs": [
    {
     "name": "stdout",
     "output_type": "stream",
     "text": [
      "Head\n",
      "\n",
      "    Name  Age  Score\n",
      "0   John   25     90\n",
      "1   Mary   31     85\n",
      "2  David   42     78\n",
      "\n",
      "Tail\n",
      "\n",
      "    Name  Age  Score\n",
      "4    Bob   35     88\n",
      "5  Alice   40     95\n"
     ]
    }
   ],
   "source": [
    "data = {'Name': ['John', 'Mary', 'David', 'Jane', 'Bob', 'Alice'],\n",
    "        'Age': [25, 31, 42, 28, 35, 40],\n",
    "        'Score': [90, 85, 78, 92, 88, 95]}\n",
    "df = pd.DataFrame(data)\n",
    "\n",
    "print(\"Head\\n\")\n",
    "print(df.head(3))  # display first 3 rows else display first 5 rows\n",
    "print(\"\\nTail\\n\")\n",
    "print(df.tail(2))  # display last 2 rows else displays last 5 rows"
   ]
  },
  {
   "cell_type": "markdown",
   "id": "7360a337-235b-421a-9057-aaa3f4f81444",
   "metadata": {},
   "source": [
    "Attributes in DataFrame\n",
    "\n",
    "A DataFrame has several attributes that provide information about the data."
   ]
  },
  {
   "cell_type": "code",
   "execution_count": 19,
   "id": "186b07d0-e12d-46ec-9c03-1d915b0060cc",
   "metadata": {},
   "outputs": [
    {
     "name": "stdout",
     "output_type": "stream",
     "text": [
      "(5, 3)\n",
      "15\n",
      "Index(['Name', 'Age', 'Score'], dtype='object')\n",
      "RangeIndex(start=0, stop=5, step=1)\n"
     ]
    }
   ],
   "source": [
    "data = {'Name': ['John', 'Mary', 'David', 'Jane', 'Alice'],\n",
    "        'Age': [25, 31, 42, 28, 29],\n",
    "        'Score': [90, 85, 78, 92, 95]}\n",
    "df = pd.DataFrame(data)\n",
    "\n",
    "print(df.shape)\n",
    "print(df.size)\n",
    "print(df.columns)\n",
    "print(df.index)"
   ]
  },
  {
   "cell_type": "markdown",
   "id": "fabab445-f5c0-4d5b-bc74-5766a60635e4",
   "metadata": {},
   "source": [
    "Working with Missing Data\n",
    "\n",
    "Pandas provides several ways to handle missing data, including detecting missing values, dropping rows or columns with missing values, and filling missing values.\n",
    "\n",
    "Detecting Missing Values:"
   ]
  },
  {
   "cell_type": "code",
   "execution_count": 7,
   "id": "c297e015-6f5e-47b6-b92d-daa4d73c62da",
   "metadata": {},
   "outputs": [
    {
     "name": "stdout",
     "output_type": "stream",
     "text": [
      "Name     0\n",
      "Age      0\n",
      "Score    1\n",
      "dtype: int64\n"
     ]
    }
   ],
   "source": [
    "import numpy as np\n",
    "\n",
    "data = {'Name': ['John', 'Mary', \"Hari\", 'Jane'],\n",
    "        'Age': [25, 31, 42, 28],\n",
    "        'Score': [90, np.nan, 78, 92]}\n",
    "df = pd.DataFrame(data)\n",
    "\n",
    "print(df.isnull().sum())  # count of missing values in each column"
   ]
  },
  {
   "cell_type": "code",
   "execution_count": 43,
   "id": "5a7712b8-2ee8-4221-bcab-d8d50a535d5c",
   "metadata": {},
   "outputs": [
    {
     "data": {
      "text/html": [
       "<div>\n",
       "<style scoped>\n",
       "    .dataframe tbody tr th:only-of-type {\n",
       "        vertical-align: middle;\n",
       "    }\n",
       "\n",
       "    .dataframe tbody tr th {\n",
       "        vertical-align: top;\n",
       "    }\n",
       "\n",
       "    .dataframe thead th {\n",
       "        text-align: right;\n",
       "    }\n",
       "</style>\n",
       "<table border=\"1\" class=\"dataframe\">\n",
       "  <thead>\n",
       "    <tr style=\"text-align: right;\">\n",
       "      <th></th>\n",
       "      <th>Name</th>\n",
       "      <th>Age</th>\n",
       "    </tr>\n",
       "  </thead>\n",
       "  <tbody>\n",
       "    <tr>\n",
       "      <th>0</th>\n",
       "      <td>John</td>\n",
       "      <td>25</td>\n",
       "    </tr>\n",
       "    <tr>\n",
       "      <th>1</th>\n",
       "      <td>Mary</td>\n",
       "      <td>31</td>\n",
       "    </tr>\n",
       "    <tr>\n",
       "      <th>2</th>\n",
       "      <td>Hari</td>\n",
       "      <td>42</td>\n",
       "    </tr>\n",
       "    <tr>\n",
       "      <th>3</th>\n",
       "      <td>Jane</td>\n",
       "      <td>28</td>\n",
       "    </tr>\n",
       "  </tbody>\n",
       "</table>\n",
       "</div>"
      ],
      "text/plain": [
       "   Name  Age\n",
       "0  John   25\n",
       "1  Mary   31\n",
       "2  Hari   42\n",
       "3  Jane   28"
      ]
     },
     "execution_count": 43,
     "metadata": {},
     "output_type": "execute_result"
    }
   ],
   "source": [
    "# Dropping Rows or Columns with Missing Values:\n",
    "# df.dropna()  # drop rows with missing values\n",
    "df.dropna(axis=1)  # drop columns with missing values"
   ]
  },
  {
   "cell_type": "code",
   "execution_count": 32,
   "id": "0fc3d684-2983-43ce-b2da-8798b55512dd",
   "metadata": {},
   "outputs": [],
   "source": [
    "data = {'Name': ['John', 'Mary', None , 'Jane'],\n",
    "        'Age': [25, 31, 42, 28],\n",
    "        'Score': [90, np.nan, 78, 92]}\n",
    "df = pd.DataFrame(data)\n",
    "\n",
    "# df.fillna('Unknown')  # fill missing values with 'Unknown'\n",
    "# df.fillna(df.mean())  # fill missing values with mean of column\n",
    "df['Score'] = df['Score'].fillna(df['Score'].mean())\n",
    "df['Name'] = df['Name'].fillna(\"Hari\")"
   ]
  },
  {
   "cell_type": "code",
   "execution_count": 34,
   "id": "5b43e430-3d8b-4d5c-8e57-0c35962b4a93",
   "metadata": {},
   "outputs": [
    {
     "name": "stdout",
     "output_type": "stream",
     "text": [
      "   Name  Age      Score\n",
      "0  John   25  90.000000\n",
      "1  Mary   31  86.666667\n",
      "2  Hari   42  78.000000\n",
      "3  Jane   28  92.000000\n"
     ]
    }
   ],
   "source": [
    "print(df)"
   ]
  },
  {
   "cell_type": "markdown",
   "id": "656e649e-f40a-4728-a2a7-2ad720278c43",
   "metadata": {},
   "source": [
    "Indexing in DataFrame\n",
    "\n",
    "Indexing in Pandas allows you to access specific rows and columns of a DataFrame using label-based indexing or integer-based indexing.\n",
    "\n",
    "Label-Based Indexing:"
   ]
  },
  {
   "cell_type": "code",
   "execution_count": 44,
   "id": "31d511d1-9ab3-4b59-9d2a-a49ee6026abf",
   "metadata": {},
   "outputs": [
    {
     "name": "stdout",
     "output_type": "stream",
     "text": [
      "Name     John\n",
      "Age        25\n",
      "Score      90\n",
      "Name: a, dtype: object\n",
      "\n",
      "\n",
      "    Name  Age  Score\n",
      "a   John   25     90\n",
      "c  David   42     78\n",
      "\n",
      "\n",
      "a     John\n",
      "b     Mary\n",
      "c    David\n",
      "d     Jane\n",
      "Name: Name, dtype: object\n",
      "\n",
      "\n",
      "a    25\n",
      "b    31\n",
      "c    42\n",
      "d    28\n",
      "Name: Age, dtype: int64\n"
     ]
    }
   ],
   "source": [
    "import pandas as pd\n",
    "\n",
    "data = {'Name': ['John', 'Mary', 'David', 'Jane'],\n",
    "        'Age': [25, 31, 42, 28],\n",
    "        'Score': [90, 85, 78, 92]}\n",
    "df = pd.DataFrame(data, index=['a', 'b', 'c', 'd'])\n",
    "\n",
    "print(df.loc['a'])  # access row with label 'a'\n",
    "print(\"\\n\")\n",
    "print(df.loc[['a', 'c']])  # access rows with labels 'a' and 'c'\n",
    "print(\"\\n\")\n",
    "print(df.loc[:, 'Name'])  # access column 'Name'\n",
    "print(\"\\n\")\n",
    "print(df.loc[:, 'Age'])  # access column 'Age'"
   ]
  },
  {
   "cell_type": "code",
   "execution_count": 13,
   "id": "5a9eccd7-928d-4dc3-b0dd-4ebd6f962433",
   "metadata": {},
   "outputs": [
    {
     "name": "stdout",
     "output_type": "stream",
     "text": [
      "Name     John\n",
      "Age        25\n",
      "Score      90\n",
      "Name: 0, dtype: object\n",
      "    Name  Age  Score\n",
      "0   John   25     90\n",
      "2  David   42     78\n",
      "0     John\n",
      "1     Mary\n",
      "2    David\n",
      "3     Jane\n",
      "Name: Name, dtype: object\n"
     ]
    }
   ],
   "source": [
    "# intiger based indexing\n",
    "data = {'Name': ['John', 'Mary', 'David', 'Jane'],\n",
    "        'Age': [25, 31, 42, 28],\n",
    "        'Score': [90, 85, 78, 92]}\n",
    "df = pd.DataFrame(data)\n",
    "\n",
    "print(df.iloc[0])  # access first row\n",
    "print(df.iloc[[0, 2]])  # access first and third rows\n",
    "print(df.iloc[:, 0])  # access first column"
   ]
  },
  {
   "cell_type": "code",
   "execution_count": 25,
   "id": "4dfc4f19-f480-44d0-bcaf-970166e6c0da",
   "metadata": {},
   "outputs": [
    {
     "name": "stdout",
     "output_type": "stream",
     "text": [
      "    Name  Age  Score\n",
      "1   Mary   31     85\n",
      "2  David   42     78\n"
     ]
    }
   ],
   "source": [
    "# Slicing in DataFrame\n",
    "\n",
    "# Slicing in Pandas allows you to extract a subset of rows and columns \n",
    "# from a DataFrame.\n",
    "\n",
    "import pandas as pd\n",
    "\n",
    "data = {'Name': ['John', 'Mary', 'David', 'Jane'],\n",
    "        'Age': [25, 31, 42, 28],\n",
    "        'Score': [90, 85, 78, 92]}\n",
    "df = pd.DataFrame(data)\n",
    "\n",
    "print(df.loc[1:2, 'Name':'Score'])  \n",
    "# slice rows 1 and 2, columns 'Name' to 'Score'"
   ]
  },
  {
   "cell_type": "code",
   "execution_count": 50,
   "id": "759b765f-452e-4cf8-9fb9-7ad3ca6547be",
   "metadata": {},
   "outputs": [
    {
     "name": "stdout",
     "output_type": "stream",
     "text": [
      "    Name  Age  Score\n",
      "1   Mary   31     85\n",
      "2  David   42     78\n",
      "    Name  Age  Score\n",
      "1   Mary   31     85\n",
      "2  David   42     78\n",
      "   Name  Age  Score\n",
      "0  John   25     90\n",
      "3  Jane   28     92\n",
      "   Name  Age  Score\n",
      "0  John   25     90\n",
      "3  Jane   28     92\n"
     ]
    }
   ],
   "source": [
    "# Subsetting a DataFrame involves selecting a \n",
    "# subset of rows and columns based on conditions.\n",
    "\n",
    "import pandas as pd\n",
    "\n",
    "data = {'Name': ['John', 'Mary', 'David', 'Jane'],\n",
    "        'Age': [25, 31, 42, 28],\n",
    "        'Score': [90, 85, 78, 92]}\n",
    "df = pd.DataFrame(data)\n",
    "\n",
    "print(df[df['Age'] > 30])  # subset rows where 'Age' is greater than 30\n",
    "print(df.query('Age > 30'))  # subset rows where 'Age' is greater than 30\n",
    "\n",
    "print(df[df['Score'] >= 90])  # subset rows where 'Age' is greater than 30\n",
    "print(df.query('Score >= 90'))  # subset rows where 'Age' is greater than 30"
   ]
  },
  {
   "cell_type": "code",
   "execution_count": 37,
   "id": "c6c25310-93b9-4206-ac50-da829259f1c2",
   "metadata": {},
   "outputs": [
    {
     "name": "stdout",
     "output_type": "stream",
     "text": [
      "   Name  Age  Score\n",
      "0  John   25     90\n",
      "1  Mary   31     85\n",
      "\n",
      "\n",
      "    Name   Age  Score\n",
      "0   John  25.0    NaN\n",
      "1   Mary  31.0    NaN\n",
      "2  David  42.0    NaN\n",
      "0   John   NaN   90.0\n",
      "1   Mary   NaN   85.0\n",
      "2   Jane   NaN   92.0\n"
     ]
    }
   ],
   "source": [
    "# Pandas provides several functions to merge and join DataFrames, \n",
    "# including merge(), join(), and concat().\n",
    "\n",
    "import pandas as pd\n",
    "\n",
    "df1 = pd.DataFrame({'Name': ['John', 'Mary', 'David'],\n",
    "                    'Age': [25, 31, 42]})\n",
    "df2 = pd.DataFrame({'Name': ['John', 'Mary', 'Jane'],\n",
    "                    'Score': [90, 85, 92]})\n",
    "\n",
    "print(pd.merge(df1, df2, on='Name'))  # merge on 'Name' column\n",
    "# print(df1.join(df2, on='Name'))  # join on 'Name' column\n",
    "print(\"\\n\")\n",
    "print(pd.concat([df1, df2], axis=0))  # concatenate DataFrames"
   ]
  },
  {
   "cell_type": "markdown",
   "id": "500acf28-763a-407c-92d3-aa85686b7cf4",
   "metadata": {},
   "source": [
    "# Joins in Pandas\n",
    "\n",
    "1. Inner Join\n",
    "An inner join returns only the rows that have a match in both the left and right DataFrames. It's like finding the intersection of two sets."
   ]
  },
  {
   "cell_type": "code",
   "execution_count": 60,
   "id": "b88b781e-a241-483b-b08e-126d170936bc",
   "metadata": {},
   "outputs": [
    {
     "name": "stdout",
     "output_type": "stream",
     "text": [
      "  key  value_x  value_y\n",
      "0   A        1        4\n",
      "1   B        2        5\n"
     ]
    }
   ],
   "source": [
    "left_df = pd.DataFrame({'key': ['A', 'B', 'C'], 'value': [1, 2, 3]})\n",
    "right_df = pd.DataFrame({'key': ['A', 'B', 'D'], 'value': [4, 5, 6]})\n",
    "\n",
    "inner_join = pd.merge(left_df, right_df, on='key', how='inner')\n",
    "print(inner_join)"
   ]
  },
  {
   "cell_type": "markdown",
   "id": "7ee64615-284d-4c45-9a0a-bc1758269494",
   "metadata": {},
   "source": [
    "2. Left Join\n",
    "\n",
    "A left join returns all the rows from the left DataFrame and the matching rows from the right DataFrame. If there's no match, the result will contain NaN values."
   ]
  },
  {
   "cell_type": "code",
   "execution_count": 67,
   "id": "a8bf1e78-d107-47da-a5d1-c8481841182f",
   "metadata": {},
   "outputs": [
    {
     "name": "stdout",
     "output_type": "stream",
     "text": [
      "  key  value_x  value_y\n",
      "0   A        1      4.0\n",
      "1   B        2      5.0\n",
      "2   C        3      NaN\n"
     ]
    }
   ],
   "source": [
    "left_join = pd.merge(left_df, right_df, on='key', how='left')\n",
    "print(left_join)"
   ]
  },
  {
   "cell_type": "markdown",
   "id": "b0f95ab5-fbc7-4caa-9306-617fae51d240",
   "metadata": {},
   "source": [
    "3. Right Join\n",
    "\n",
    "A right join is similar to a left join, but it returns all the rows from the right DataFrame and the matching rows from the left DataFrame."
   ]
  },
  {
   "cell_type": "code",
   "execution_count": 72,
   "id": "ea400f39-33fc-4efa-b1d9-04416d89ecdd",
   "metadata": {},
   "outputs": [
    {
     "name": "stdout",
     "output_type": "stream",
     "text": [
      "  key  value_x  value_y\n",
      "0   A      1.0        4\n",
      "1   B      2.0        5\n",
      "2   D      NaN        6\n"
     ]
    }
   ],
   "source": [
    "right_join = pd.merge(left_df, right_df, on='key', how='right')\n",
    "print(right_join)"
   ]
  },
  {
   "cell_type": "markdown",
   "id": "9d1e43b8-a221-4ef2-8658-042970bacfd4",
   "metadata": {},
   "source": [
    "4. Outer Join\n",
    "\n",
    "An outer join returns all rows from both DataFrames, with NaN values where there's no match."
   ]
  },
  {
   "cell_type": "code",
   "execution_count": 77,
   "id": "d2484aec-d055-402b-bb21-e860ec26031a",
   "metadata": {},
   "outputs": [
    {
     "name": "stdout",
     "output_type": "stream",
     "text": [
      "  key  value_x  value_y\n",
      "0   A      1.0      4.0\n",
      "1   B      2.0      5.0\n",
      "2   C      3.0      NaN\n",
      "3   D      NaN      6.0\n"
     ]
    }
   ],
   "source": [
    "outer_join = pd.merge(left_df, right_df, on='key', how='outer')\n",
    "print(outer_join)"
   ]
  },
  {
   "cell_type": "markdown",
   "id": "1db27de7-dc95-42da-967a-c2dc53177615",
   "metadata": {},
   "source": [
    "Working with CSV files\n",
    "\n",
    "1. Reading a CSV file\n",
    "\n",
    "You can read a CSV file into a pandas DataFrame using the read_csv function:"
   ]
  },
  {
   "cell_type": "code",
   "execution_count": 7,
   "id": "2db313b8-90a0-4fa8-a4bd-f3e8bc978b1e",
   "metadata": {},
   "outputs": [
    {
     "name": "stdout",
     "output_type": "stream",
     "text": [
      "    name  age        city\n",
      "0    Ram   25      Dharan\n",
      "1  Shyam   31     Itahari\n",
      "2   Hari   42      Duhabi\n",
      "3   Gita   28  Biratnagar\n"
     ]
    }
   ],
   "source": [
    "import pandas as pd\n",
    "\n",
    "df = pd.read_csv('data.csv')\n",
    "print(df.head())  # print the first few rows of the DataFrame"
   ]
  },
  {
   "cell_type": "markdown",
   "id": "bee32761-6b40-462e-a62b-782a6ca81fb4",
   "metadata": {},
   "source": [
    "2. Writing a CSV file\n",
    "\n",
    "You can write a pandas DataFrame to a CSV file using the to_csv method:"
   ]
  },
  {
   "cell_type": "code",
   "execution_count": 17,
   "id": "8be607de-633c-4e40-9eec-71396215c35e",
   "metadata": {},
   "outputs": [],
   "source": [
    "df.to_csv('output1.csv', index=False)  # write the DataFrame to a CSV file\n",
    "\n",
    "df = pd.DataFrame({'key': ['A', 'B', 'C'], 'value': [1, 2, 3]})\n",
    "df.to_csv('output1.csv', index=False)"
   ]
  },
  {
   "cell_type": "raw",
   "id": "8ac1c407-f05d-461e-b0a4-2001fc6cdb0f",
   "metadata": {},
   "source": [
    "3. Reading a CSV file with options\n",
    "\n",
    "You can specify various options when reading a CSV file, such as:\n",
    "\n",
    "header: whether the first row is a header row (default is None, which means pandas will try to infer)\n",
    "sep: the separator character (default is ,)\n",
    "na_values: a list of values to be treated as missing (default is ['NA', 'None', 'nan'])\n",
    "parse_dates: a list of columns to parse as dates"
   ]
  },
  {
   "cell_type": "code",
   "execution_count": 23,
   "id": "d03d4358-fba9-4ce1-a594-f793640b0558",
   "metadata": {},
   "outputs": [],
   "source": [
    "df = pd.read_csv('data1.csv', header=0, sep=',', na_values=['NA'], parse_dates=['date'])"
   ]
  },
  {
   "cell_type": "code",
   "execution_count": 25,
   "id": "e072ee3c-3a23-4fc5-96e2-323819504444",
   "metadata": {},
   "outputs": [
    {
     "name": "stdout",
     "output_type": "stream",
     "text": [
      "    name  age     city                      date\n",
      "0    Ram   25   Dharan 2023-01-20 00:00:00+00:00\n",
      "1  Shyam   31  Itahari 2023-01-20 00:00:00+00:00\n",
      "2   Hari   42   Duhabi 2023-01-20 00:00:00+00:00\n",
      "3   Gita   28      NaN 2023-01-20 00:00:00+00:00\n"
     ]
    }
   ],
   "source": [
    "print(df)"
   ]
  },
  {
   "cell_type": "code",
   "execution_count": 119,
   "id": "34828d8f-d018-468b-a513-cbd49bc450c7",
   "metadata": {},
   "outputs": [
    {
     "name": "stdout",
     "output_type": "stream",
     "text": [
      "    name  age        city\n",
      "0    Ram   25      Dharan\n",
      "1  Shyam   31     Itahari\n",
      "2   Hari   42      Duhabi\n",
      "3   Gita   28  Biratnagar\n"
     ]
    }
   ],
   "source": [
    "# Read the JSON file\n",
    "df_json = pd.read_json('data.json')\n",
    "print(df_json)"
   ]
  },
  {
   "cell_type": "code",
   "execution_count": 39,
   "id": "43770ddf-b6b8-463f-9733-50eea8632139",
   "metadata": {},
   "outputs": [
    {
     "name": "stdout",
     "output_type": "stream",
     "text": [
      "{\"schema\":{\"fields\":[{\"name\":\"index\",\"type\":\"integer\"},{\"name\":\"name\",\"type\":\"string\"},{\"name\":\"age\",\"type\":\"integer\"},{\"name\":\"city\",\"type\":\"string\"}],\"primaryKey\":[\"index\"],\"pandas_version\":\"1.4.0\"},\"data\":[{\"index\":0,\"name\":\"Ram\",\"age\":25,\"city\":\"Dharan\"},{\"index\":1,\"name\":\"Shyam\",\"age\":31,\"city\":\"Itahari\"},{\"index\":2,\"name\":\"Hari\",\"age\":42,\"city\":\"Duhabi\"},{\"index\":3,\"name\":\"Gita\",\"age\":28,\"city\":\"Biratnagar\"}]}\n"
     ]
    }
   ],
   "source": [
    "# Create a DataFrame from the CSV data\n",
    "df = pd.DataFrame({\n",
    "    'name': ['Ram', 'Shyam', 'Hari', 'Gita'],\n",
    "    'age': [25, 31, 42, 28],\n",
    "    'city': ['Dharan', 'Itahari', 'Duhabi', 'Biratnagar']\n",
    "})\n",
    "\n",
    "# Convert the DataFrame to JSON\n",
    "json_data = df.to_json(orient='table')\n",
    "\n",
    "print(json_data)\n",
    "\n",
    "# print dataframe to json file\n",
    "df.to_json('output1.json', orient='table', indent=4)"
   ]
  },
  {
   "cell_type": "markdown",
   "id": "b5588b78-dd38-4610-9407-bc2150a65bc1",
   "metadata": {},
   "source": [
    "In Pandas, the orient parameter in the to_json() method can take several values, each producing a different JSON data structure. Here are some of the other possible values for orient:\n",
    "\n",
    "1. orient='split': This is the default orientation. It produces a JSON object with three keys: data, index, and columns. The data key contains an array of values, the index key contains an array of index values, and the columns key contains an array of column names.\n",
    "2. \n",
    "orient='records': As we discussed earlier, this produces a JSON array of objects, where each object represents a single row of the DataFrame\n",
    "3. orient='index': This produces a JSON object with key-value pairs, where the keys are the index values and the values are objects containing the column values.\n",
    "4. orient='table': This produces a JSON object with a single key-value pair, where the key is the string \"data\" and the value is an object containing the column names and values.\n",
    "5. orient='columns': This produces a JSON object with key-value pairs, where the keys are the column names and the values are arrays of values.\n",
    "6. orient='values': This produces a JSON array of arrays, where each inner array represents a row of the DataFrame.\n",
    "\r\n",
    "."
   ]
  },
  {
   "cell_type": "code",
   "execution_count": 27,
   "id": "a942ffa3-fa19-4c7b-93c6-f76ab6de547f",
   "metadata": {},
   "outputs": [
    {
     "name": "stdout",
     "output_type": "stream",
     "text": [
      "{\"columns\":[\"name\",\"age\",\"city\"],\"index\":[0,1,2,3],\"data\":[[\"Ram\",25,\"Dharan\"],[\"Shyam\",31,\"Itahari\"],[\"Hari\",42,\"Duhabi\"],[\"Gita\",28,\"Biratnagar\"]]}\n"
     ]
    }
   ],
   "source": [
    "print(df.to_json(orient='split', indent=0))"
   ]
  },
  {
   "cell_type": "code",
   "execution_count": 29,
   "id": "2ea54fff-8069-4e25-8ad5-d0174958b48d",
   "metadata": {},
   "outputs": [
    {
     "name": "stdout",
     "output_type": "stream",
     "text": [
      "[{\"name\":\"Ram\",\"age\":25,\"city\":\"Dharan\"},{\"name\":\"Shyam\",\"age\":31,\"city\":\"Itahari\"},{\"name\":\"Hari\",\"age\":42,\"city\":\"Duhabi\"},{\"name\":\"Gita\",\"age\":28,\"city\":\"Biratnagar\"}]\n"
     ]
    }
   ],
   "source": [
    "print(df.to_json(orient='records', indent=0))"
   ]
  },
  {
   "cell_type": "code",
   "execution_count": 31,
   "id": "a5140bdc-fd03-4b40-a218-4140d30e6f42",
   "metadata": {},
   "outputs": [
    {
     "name": "stdout",
     "output_type": "stream",
     "text": [
      "{\"0\":{\"name\":\"Ram\",\"age\":25,\"city\":\"Dharan\"},\"1\":{\"name\":\"Shyam\",\"age\":31,\"city\":\"Itahari\"},\"2\":{\"name\":\"Hari\",\"age\":42,\"city\":\"Duhabi\"},\"3\":{\"name\":\"Gita\",\"age\":28,\"city\":\"Biratnagar\"}}\n"
     ]
    }
   ],
   "source": [
    "print(df.to_json(orient='index', indent=0))"
   ]
  },
  {
   "cell_type": "code",
   "execution_count": 35,
   "id": "39e44b07-d8b7-4403-8d70-d8920331fc41",
   "metadata": {},
   "outputs": [
    {
     "name": "stdout",
     "output_type": "stream",
     "text": [
      "{\"schema\":{\"fields\":[{\"name\":\"index\",\"type\":\"integer\"},{\"name\":\"name\",\"type\":\"string\"},{\"name\":\"age\",\"type\":\"integer\"},{\"name\":\"city\",\"type\":\"string\"}],\"primaryKey\":[\"index\"],\"pandas_version\":\"1.4.0\"},\"data\":[{\"index\":0,\"name\":\"Ram\",\"age\":25,\"city\":\"Dharan\"},{\"index\":1,\"name\":\"Shyam\",\"age\":31,\"city\":\"Itahari\"},{\"index\":2,\"name\":\"Hari\",\"age\":42,\"city\":\"Duhabi\"},{\"index\":3,\"name\":\"Gita\",\"age\":28,\"city\":\"Biratnagar\"}]}\n"
     ]
    }
   ],
   "source": [
    "print(df.to_json(orient='table', indent=0))"
   ]
  },
  {
   "cell_type": "code",
   "execution_count": 41,
   "id": "075a8bb2-1aec-4d71-8eca-33661ee3af61",
   "metadata": {},
   "outputs": [
    {
     "name": "stdout",
     "output_type": "stream",
     "text": [
      "{\"name\":{\"0\":\"Ram\",\"1\":\"Shyam\",\"2\":\"Hari\",\"3\":\"Gita\"},\"age\":{\"0\":25,\"1\":31,\"2\":42,\"3\":28},\"city\":{\"0\":\"Dharan\",\"1\":\"Itahari\",\"2\":\"Duhabi\",\"3\":\"Biratnagar\"}}\n"
     ]
    }
   ],
   "source": [
    "print(df.to_json(orient='columns', indent=0))"
   ]
  },
  {
   "cell_type": "code",
   "execution_count": 39,
   "id": "2aff578c-4e9d-4c5c-9204-1500bf331dfb",
   "metadata": {},
   "outputs": [
    {
     "name": "stdout",
     "output_type": "stream",
     "text": [
      "[[\"Ram\",25,\"Dharan\"],[\"Shyam\",31,\"Itahari\"],[\"Hari\",42,\"Duhabi\"],[\"Gita\",28,\"Biratnagar\"]]\n"
     ]
    }
   ],
   "source": [
    "print(df.to_json(orient='values'))"
   ]
  },
  {
   "cell_type": "code",
   "execution_count": null,
   "id": "aabe255f-542b-4c39-b444-321919623528",
   "metadata": {},
   "outputs": [],
   "source": []
  }
 ],
 "metadata": {
  "kernelspec": {
   "display_name": "Python 3 (ipykernel)",
   "language": "python",
   "name": "python3"
  },
  "language_info": {
   "codemirror_mode": {
    "name": "ipython",
    "version": 3
   },
   "file_extension": ".py",
   "mimetype": "text/x-python",
   "name": "python",
   "nbconvert_exporter": "python",
   "pygments_lexer": "ipython3",
   "version": "3.12.4"
  }
 },
 "nbformat": 4,
 "nbformat_minor": 5
}
