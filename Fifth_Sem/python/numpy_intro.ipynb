{
 "cells": [
  {
   "cell_type": "code",
   "execution_count": 1,
   "id": "233f011a-6f67-4f67-8d38-f54bbf227bb5",
   "metadata": {},
   "outputs": [],
   "source": [
    "#import numpy\n",
    "import numpy as np"
   ]
  },
  {
   "cell_type": "code",
   "execution_count": 5,
   "id": "691042c7-3370-4bca-8f7b-1f2bd59e5a32",
   "metadata": {},
   "outputs": [
    {
     "name": "stdout",
     "output_type": "stream",
     "text": [
      "Adding 2 to each elements:  [3 4 5 6 7]\n",
      "Multiplation by 2 to each elements:  [ 2  4  6  8 10]\n"
     ]
    }
   ],
   "source": [
    "# Create a NumPy array\n",
    "arr = np.array([1, 2, 3, 4, 5]) #from list\n",
    "\n",
    "# Perform basic arithmetic operations\n",
    "print('Adding 2 to each elements: ',arr + 2)\n",
    "print('Multiplation by 2 to each elements: ',arr * 2) "
   ]
  },
  {
   "cell_type": "code",
   "execution_count": 9,
   "id": "06028ae3-19ae-40bb-aa85-3a3564d6eaec",
   "metadata": {},
   "outputs": [
    {
     "name": "stdout",
     "output_type": "stream",
     "text": [
      "The sum is:  15\n",
      "The mean value is:  3.0\n"
     ]
    }
   ],
   "source": [
    "\n",
    "# Calculate the sum and mean of the array\n",
    "print('The sum is: ',np.sum(arr))\n",
    "print('The mean value is: ',np.mean(arr))"
   ]
  },
  {
   "cell_type": "code",
   "execution_count": 17,
   "id": "565f2951-d40e-4de3-8e1c-f22dd13979fd",
   "metadata": {},
   "outputs": [
    {
     "name": "stdout",
     "output_type": "stream",
     "text": [
      "\n",
      "Random Array of 3 element is: \n",
      " [0.94622834 0.97109503 0.00715096]\n"
     ]
    }
   ],
   "source": [
    "# Generate a random NumPy array\n",
    "rand_arr = np.random.rand(3)\n",
    "print('\\nRandom Array of 3 element is: \\n',rand_arr)"
   ]
  },
  {
   "cell_type": "code",
   "execution_count": 13,
   "id": "8338f920-c006-4e87-a0df-95062d11e3f0",
   "metadata": {},
   "outputs": [
    {
     "name": "stdout",
     "output_type": "stream",
     "text": [
      "\n",
      "Random Array of 3x3 is: \n",
      " [[0.03090999 0.19005039 0.71816789]\n",
      " [0.9341699  0.63746186 0.74374669]\n",
      " [0.07241305 0.84431546 0.83086939]]\n"
     ]
    }
   ],
   "source": [
    "\n",
    "rand_arr = np.random.rand(3, 3)\n",
    "print('\\nRandom Array of 3x3 is: \\n',rand_arr)"
   ]
  },
  {
   "cell_type": "code",
   "execution_count": null,
   "id": "e8cd03e1-98d6-4ac5-a868-fb0c970e66fb",
   "metadata": {},
   "outputs": [],
   "source": []
  },
  {
   "cell_type": "code",
   "execution_count": 4,
   "id": "dc96008a-b2f0-4191-871b-bde64034236c",
   "metadata": {},
   "outputs": [
    {
     "name": "stdout",
     "output_type": "stream",
     "text": [
      "Adding 2 to each elements:  [3 4 5 6 7]\n",
      "Multiplation by 2 to each elements:  [ 2  4  6  8 10]\n",
      "The sum is:  15\n",
      "The mean value is:  3.0\n",
      "\n",
      "Random Array of 3 element is: \n",
      " [0.585559   0.47819591 0.50068787]\n",
      "\n",
      "Random Array of 3x3 is: \n",
      " [[0.61742108 0.56688788 0.73718218]\n",
      " [0.60573031 0.58388365 0.82089827]\n",
      " [0.88436557 0.71937723 0.0735546 ]]\n"
     ]
    }
   ],
   "source": [
    "arr = np.array((1, 2, 3, 4, 5)) #from tuple\n",
    "\n",
    "# Perform basic arithmetic operations\n",
    "print('Adding 2 to each elements: ',arr + 2)\n",
    "print('Multiplation by 2 to each elements: ',arr * 2) \n",
    "\n",
    "# Calculate the sum and mean of the array\n",
    "print('The sum is: ',np.sum(arr))\n",
    "print('The mean value is: ',np.mean(arr))\n",
    "\n",
    "# Generate a random NumPy array\n",
    "rand_arr = np.random.rand(3)\n",
    "print('\\nRandom Array of 3 element is: \\n',rand_arr)\n",
    "\n",
    "rand_arr = np.random.rand(3, 3)\n",
    "print('\\nRandom Array of 3x3 is: \\n',rand_arr)"
   ]
  },
  {
   "cell_type": "markdown",
   "id": "e759ba4e-d05f-4cc0-a570-bcd8a5bf6cda",
   "metadata": {},
   "source": [
    "Examples of Broadcasting"
   ]
  },
  {
   "cell_type": "code",
   "execution_count": 19,
   "id": "951df1c3-4516-46c4-baa0-19cf76f0ddf7",
   "metadata": {},
   "outputs": [
    {
     "name": "stdout",
     "output_type": "stream",
     "text": [
      "Adding a scalar to an array: \n",
      " [3 4 5]\n"
     ]
    }
   ],
   "source": [
    "# Example 1: Adding a scalar to an array\n",
    "arr = np.array([1, 2, 3])\n",
    "scalar = 2\n",
    "result = arr + scalar\n",
    "\n",
    "print('Adding a scalar to an array: \\n', result)"
   ]
  },
  {
   "cell_type": "code",
   "execution_count": 29,
   "id": "61dab3f0-ca17-4e6f-af21-9d5a6cfb6a24",
   "metadata": {},
   "outputs": [
    {
     "name": "stdout",
     "output_type": "stream",
     "text": [
      "Adding two arrays with different shapes: \n",
      " [5 6 7]\n"
     ]
    }
   ],
   "source": [
    "# Example 2: Adding two arrays with different shapes\n",
    "arr1 = np.array([1, 2, 3])\n",
    "arr2 = np.array([4])\n",
    "result = arr1 + arr2\n",
    "\n",
    "print('Adding two arrays with different shapes: \\n',result)"
   ]
  },
  {
   "cell_type": "code",
   "execution_count": 23,
   "id": "1f6cf26d-84b7-4349-930c-9d93c1d5d7c6",
   "metadata": {},
   "outputs": [
    {
     "name": "stdout",
     "output_type": "stream",
     "text": [
      "Multiplying two arrays with different shapes\n",
      "\n",
      "[[ 5 12]\n",
      " [15 24]]\n"
     ]
    }
   ],
   "source": [
    "# Example 3: Multiplying two arrays with different shapes\n",
    "arr1 = np.array([[1, 2], [3, 4]])\n",
    "arr2 = np.array([5, 6])\n",
    "result = arr1 * arr2\n",
    "print('Multiplying two arrays with different shapes\\n')\n",
    "print(result)"
   ]
  },
  {
   "cell_type": "markdown",
   "id": "7207bfa5-2717-4fcb-97a6-cbac1cba23e1",
   "metadata": {},
   "source": [
    "Example of Indexing"
   ]
  },
  {
   "cell_type": "code",
   "execution_count": 8,
   "id": "06113a7f-15b7-40ea-9bd1-5076bc18f0b3",
   "metadata": {},
   "outputs": [
    {
     "name": "stdout",
     "output_type": "stream",
     "text": [
      "1\n",
      "5\n"
     ]
    }
   ],
   "source": [
    "arr = np.array([1, 2, 3, 4, 5])\n",
    "print(arr[0])\n",
    "print(arr[4])"
   ]
  },
  {
   "cell_type": "markdown",
   "id": "447a3883-b77c-4943-84ef-5917cfea6c23",
   "metadata": {},
   "source": [
    "Example of Slicing"
   ]
  },
  {
   "cell_type": "code",
   "execution_count": 10,
   "id": "88d5aebf-f8a3-42a5-89ec-47aeab58631b",
   "metadata": {},
   "outputs": [
    {
     "name": "stdout",
     "output_type": "stream",
     "text": [
      "[2 3 4 5]\n",
      "[2 4 6 8]\n"
     ]
    }
   ],
   "source": [
    "arr = np.array([1, 2, 3, 4, 5, 6, 7, 8, 9])\n",
    "print(arr[1:5])\n",
    "print(arr[1:8:2]) "
   ]
  },
  {
   "cell_type": "markdown",
   "id": "a4fda805-4876-445c-b1c9-7080e43643a5",
   "metadata": {},
   "source": [
    "Multi-Dimensional Indexing and Slicing\n",
    "For multi-dimensional arrays, you can use comma-separated indices to access specific elements or subsets. For example"
   ]
  },
  {
   "cell_type": "code",
   "execution_count": 31,
   "id": "55528a0f-51ec-480c-9753-9396d505aae3",
   "metadata": {},
   "outputs": [
    {
     "name": "stdout",
     "output_type": "stream",
     "text": [
      "2\n",
      "[5 8]\n"
     ]
    }
   ],
   "source": [
    "arr = np.array([[1, 2, 3], [4, 5, 6], [7, 8, 9]])\n",
    "print(arr[0, 1]) \n",
    "print(arr[1:, 1:])"
   ]
  },
  {
   "cell_type": "markdown",
   "id": "98c50de5-20a4-4595-9153-d9c965a613ce",
   "metadata": {},
   "source": [
    "Advanced Indexing\n",
    "NumPy also supports advanced indexing using arrays of indices."
   ]
  },
  {
   "cell_type": "code",
   "execution_count": 35,
   "id": "942e875b-fc8d-49a0-a09a-d889fcf790f7",
   "metadata": {},
   "outputs": [
    {
     "name": "stdout",
     "output_type": "stream",
     "text": [
      "[1 3 5]\n"
     ]
    }
   ],
   "source": [
    "arr = np.array([1, 2, 3, 4, 5])\n",
    "indices = np.array([0, 2, 4])\n",
    "print(arr[indices])"
   ]
  },
  {
   "cell_type": "raw",
   "id": "9a6775fd-5a35-4dc5-92a2-6b7e233cd95f",
   "metadata": {},
   "source": [
    "Random Number Generation in NumPy\n",
    "\n",
    "NumPy provides several functions for generating random numbers, including:\n",
    "\n",
    "numpy.random.rand(): Generates an array of random numbers between 0 and 1.\n",
    "numpy.random.randn(): Generates an array of random numbers from a normal distribution.\n",
    "numpy.random.randint(): Generates an array of random integers within a specified range.\n",
    "numpy.random.choice(): Generates an array of random samples from a given array."
   ]
  },
  {
   "cell_type": "code",
   "execution_count": 39,
   "id": "606db442-2852-437a-aa7a-cce612fd169e",
   "metadata": {},
   "outputs": [
    {
     "name": "stdout",
     "output_type": "stream",
     "text": [
      "[0.88541871 0.91553271 0.19140355 0.40467716 0.14738125]\n",
      "[ 1.21036778 -0.71581986  0.36638378]\n",
      "[ 9 10  2  5]\n",
      "[5 1]\n"
     ]
    }
   ],
   "source": [
    "# import numpy as np\n",
    "\n",
    "# Generate an array of 5 random numbers between 0 and 1\n",
    "arr = np.random.rand(5)\n",
    "print(arr)\n",
    "\n",
    "# Generate an array of 3 random numbers from a normal distribution\n",
    "arr = np.random.randn(3)\n",
    "print(arr)\n",
    "\n",
    "# Generate an array of 4 random integers between 1 and 10\n",
    "arr = np.random.randint(1, 11, 4)\n",
    "print(arr)\n",
    "\n",
    "# Generate an array of 2 random samples from a given array\n",
    "arr = np.array([1, 2, 3, 4, 5])\n",
    "samples = np.random.choice(arr, 2)\n",
    "print(samples)"
   ]
  },
  {
   "cell_type": "raw",
   "id": "eeb6b78d-1abe-4d6e-a485-2f4e022e5479",
   "metadata": {},
   "source": [
    "NumPy Data Types:\n",
    "\n",
    "int: Integer data type. \n",
    "float: Floating-point data type. \n",
    "complex: Complex number data type. \n",
    "bool: Boolean data type. \n",
    "string: String data type."
   ]
  },
  {
   "cell_type": "code",
   "execution_count": 41,
   "id": "03984150-b79a-43c7-9a54-bea02a18b724",
   "metadata": {},
   "outputs": [
    {
     "name": "stdout",
     "output_type": "stream",
     "text": [
      "int32\n"
     ]
    }
   ],
   "source": [
    "# int: Integer data type\n",
    "# In NumPy, you can create an integer array using the dtype parameter. \n",
    "arr = np.array([1, 2, 3, 4, 5])\n",
    "print(arr.dtype)  # int32\n",
    "\n",
    "# You can also specify the bit width of the integer using np.int8, np.int16, np.int32, or np.int64."
   ]
  },
  {
   "cell_type": "code",
   "execution_count": 13,
   "id": "e66f82c6-e3f3-4c50-ad8e-ac84034bb673",
   "metadata": {},
   "outputs": [
    {
     "name": "stdout",
     "output_type": "stream",
     "text": [
      "float32\n"
     ]
    }
   ],
   "source": [
    "# float: Floating-point data type\n",
    "# In NumPy, you can create a floating-point array using the dtype parameter.\n",
    "\n",
    "arr = np.array([1.0, 2.0, 3.0, 4.0, 5.0], dtype=np.float32)\n",
    "print(arr.dtype)\n",
    "\n",
    "# You can also specify the precision of the floating-point number using np.float32 or np.float64."
   ]
  },
  {
   "cell_type": "code",
   "execution_count": 19,
   "id": "03ab25f4-2709-476a-bb71-1fae7d4537e5",
   "metadata": {},
   "outputs": [
    {
     "name": "stdout",
     "output_type": "stream",
     "text": [
      "complex128\n"
     ]
    }
   ],
   "source": [
    "# complex: Complex number data type\n",
    "# In NumPy, you can create a complex number array using the dtype parameter.\n",
    "\n",
    "arr = np.array([1 + 2j, 2 + 3j, 3 + 4j], dtype=np.complex128)\n",
    "print(arr.dtype) \n",
    "\n",
    "# You can also specify the precision of the complex number using np.complex64 or np.complex128."
   ]
  },
  {
   "cell_type": "code",
   "execution_count": 17,
   "id": "c8eb23ff-d640-4cfb-9972-978873beaaa1",
   "metadata": {},
   "outputs": [
    {
     "name": "stdout",
     "output_type": "stream",
     "text": [
      "bool\n",
      "[ True False  True False]\n"
     ]
    }
   ],
   "source": [
    "# bool: Boolean data type\n",
    "# In NumPy, you can create a boolean array using the dtype parameter.\n",
    "arr = np.array([True, False, True, False], dtype=np.bool_)\n",
    "print(arr.dtype)\n",
    "print(arr)"
   ]
  },
  {
   "cell_type": "code",
   "execution_count": 27,
   "id": "60626082-2ecd-4665-8d5a-621a426552a0",
   "metadata": {},
   "outputs": [
    {
     "name": "stdout",
     "output_type": "stream",
     "text": [
      "object\n"
     ]
    }
   ],
   "source": [
    "# string: String data type (Note: This is not a built-in NumPy data type)\n",
    "# NumPy does not have a built-in string data type. However, you can use the dtype parameter to specify a string type using the numpy.object_ type.\n",
    "\n",
    "arr = np.array(['hello', 'world', 'numpy'], dtype=np.object_)\n",
    "print(arr.dtype) \n",
    "\n",
    "# Alternatively, you can use the numpy.string_ type, which is a fixed-length string type.\n",
    "\n",
    "# arr = np.array(['hello', 'world', 'numpy'], dtype=np.string_(10))\n",
    "# print(arr.dtype)\n",
    "\n",
    "# Note that the numpy.string_ type is deprecated since NumPy 1.14, and it's recommended to use the numpy.object_ type instead."
   ]
  },
  {
   "cell_type": "markdown",
   "id": "8fab22e6-08ba-46c9-ba52-a293ea4526dd",
   "metadata": {},
   "source": [
    "NumPy is primarily designed for numerical computations, and it's not ideal for working with strings. However, there are some scenarios where you might need to work with strings in NumPy, and that's why NumPy provides some limited support for strings.\n",
    "\n",
    "Here are some reasons why strings are used in NumPy:\n",
    "\n",
    "Labeling and annotation: In scientific computing, it's common to have arrays with labels or annotations that are strings. For example, you might have an array of temperatures with labels like \"Celsius\" or \"Fahrenheit\".\n",
    "Categorical data: In data analysis, you might have categorical data that's represented as strings. For example, you might have an array of colors like \"red\", \"green\", or \"blue\".\n",
    "Data import and export: When importing or exporting data from files, strings are often used to represent column names, headers, or other metadata.\n",
    "Interoperability with other libraries: NumPy is often used in conjunction with other Python libraries like Pandas, Matplotlib, or Scikit-learn, which may require working with strings.\n",
    "When working with strings in NumPy, you should be aware of the following limitations:\n",
    "\n",
    "Performance: String operations in NumPy can be slower than numerical operations.\n",
    "Memory usage: Strings can occupy more memory than numerical data types.\n",
    "Limited functionality: NumPy's string support is limited compared to dedicated string libraries like Python's built-in str type or libraries like Pandas.\n",
    "If you need to work with strings extensively, it's often better to use a dedicated library like Pandas, which provides more efficient and flexible string handling capabilities.\n",
    "\n",
    "In summary, while NumPy is primarily designed for numerical computations, it provides some limited support for strings to accommodate specific use cases and interoperability with other libraries. However, if you need to work with strings extensively, you may want to consider using a more specialized library."
   ]
  },
  {
   "cell_type": "code",
   "execution_count": 23,
   "id": "c86a3561-c493-4cf2-b242-97a7633f83b0",
   "metadata": {},
   "outputs": [
    {
     "name": "stdout",
     "output_type": "stream",
     "text": [
      "<U5\n",
      "<U10\n"
     ]
    }
   ],
   "source": [
    "# Creating a NumPy array with strings\n",
    "arr = np.array(['hello', 'world', 'nu'])\n",
    "print(arr.dtype)\n",
    "\n",
    "arr = np.array(['hello', 'world', 'numpy'], dtype='U10')\n",
    "print(arr.dtype)"
   ]
  },
  {
   "cell_type": "markdown",
   "id": "2c577cfc-34a4-4d12-900b-65f6f164aaaa",
   "metadata": {},
   "source": [
    "NumPy arrays have several attributes that provide information about the array. Here are some of the most commonly used attributes:\n",
    "\n",
    "ndim: The number of dimensions in the array.\n",
    "shape: A tuple representing the dimensionality of the array.\n",
    "size: The total number of elements in the array.\n",
    "dtype: The data type of the elements in the array.\n",
    "itemsize: The length of each element in bytes.\n",
    "nbytes: The total number of bytes used by the array.\n",
    "flags: Information about the memory layout of the array.\n",
    "strides: The number of bytes to step in each dimension when traversing the array.\n",
    "data: A pointer to the start of the array's data.\n",
    "ctypes: An object that can be used to access the array's data as a ctypes object.\n",
    "flat: A 1-D iterator over the array.\n",
    "real, imag, conj: Attributes for complex arrays.\n",
    "T: The transpose of the array.\n"
   ]
  },
  {
   "cell_type": "code",
   "execution_count": 31,
   "id": "3308518d-e047-4355-8e45-6edfa464a495",
   "metadata": {},
   "outputs": [
    {
     "name": "stdout",
     "output_type": "stream",
     "text": [
      "1\n"
     ]
    }
   ],
   "source": [
    "# ndim: The number of dimensions in the array.\n",
    "arr = np.array([1, 2, 3])\n",
    "print(arr.ndim)"
   ]
  },
  {
   "cell_type": "code",
   "execution_count": 57,
   "id": "0d77b1fc-eaba-41eb-bd32-7631a7a99146",
   "metadata": {},
   "outputs": [
    {
     "name": "stdout",
     "output_type": "stream",
     "text": [
      "(4, 1)\n",
      "2\n"
     ]
    }
   ],
   "source": [
    "# shape: A tuple representing the dimensionality of the array.\n",
    "arr = np.array([[1], [2], [3], [4]])\n",
    "print(arr.shape)\n",
    "print(arr[1][0])"
   ]
  },
  {
   "cell_type": "code",
   "execution_count": null,
   "id": "882697e2-3670-463c-bd69-006cd98d7038",
   "metadata": {},
   "outputs": [],
   "source": []
  },
  {
   "cell_type": "code",
   "execution_count": 53,
   "id": "4c1c3dce-7d73-4f9d-bdf9-6d14abcf6922",
   "metadata": {},
   "outputs": [
    {
     "name": "stdout",
     "output_type": "stream",
     "text": [
      "3\n"
     ]
    }
   ],
   "source": [
    "# size: The total number of elements in the array.\n",
    "arr = np.array([1, 2, 3])\n",
    "# arr = np.array([[1], [2], [3], [4]])\n",
    "print(arr.size)"
   ]
  },
  {
   "cell_type": "code",
   "execution_count": 50,
   "id": "8e1a8c41-7064-47e0-b0f9-d81973eb483c",
   "metadata": {},
   "outputs": [
    {
     "name": "stdout",
     "output_type": "stream",
     "text": [
      "int32\n"
     ]
    }
   ],
   "source": [
    "# dtype: The data type of the elements in the array.\n",
    "arr = np.array([1, 2, 3])\n",
    "print(arr.dtype)"
   ]
  },
  {
   "cell_type": "code",
   "execution_count": 43,
   "id": "76166d81-6970-4437-94e3-cf8833e9168a",
   "metadata": {},
   "outputs": [
    {
     "name": "stdout",
     "output_type": "stream",
     "text": [
      "4\n",
      "int32\n"
     ]
    }
   ],
   "source": [
    "# itemsize: The length of each element in bytes.\n",
    "arr = np.array([1, 2, 3])\n",
    "print(arr.itemsize)\n",
    "print(arr.dtype)"
   ]
  },
  {
   "cell_type": "code",
   "execution_count": null,
   "id": "1edd9bdf-aadf-4dd8-a03b-033778144de3",
   "metadata": {},
   "outputs": [],
   "source": []
  }
 ],
 "metadata": {
  "kernelspec": {
   "display_name": "Python 3 (ipykernel)",
   "language": "python",
   "name": "python3"
  },
  "language_info": {
   "codemirror_mode": {
    "name": "ipython",
    "version": 3
   },
   "file_extension": ".py",
   "mimetype": "text/x-python",
   "name": "python",
   "nbconvert_exporter": "python",
   "pygments_lexer": "ipython3",
   "version": "3.12.4"
  }
 },
 "nbformat": 4,
 "nbformat_minor": 5
}
